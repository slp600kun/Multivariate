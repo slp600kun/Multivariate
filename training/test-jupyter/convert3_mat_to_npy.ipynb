{
 "cells": [
  {
   "cell_type": "code",
   "execution_count": 6,
   "metadata": {},
   "outputs": [],
   "source": [
    "import sensordata \n",
    "import numpy as np\n",
    "gauss_a,gauss_b,wind_a,wind_b,labels = sensordata.data_generate(\"mat/gauss_mat/\",\"gauss_feat\",\"mat/wind_mat/\",\"wind_vel_feat\")"
   ]
  },
  {
   "cell_type": "code",
   "execution_count": 8,
   "metadata": {},
   "outputs": [],
   "source": [
    "datadir = \"train-npy/\"\n",
    "np.save(datadir + 'gauss_a_set_4', gauss_a)\n",
    "np.save(datadir + 'gauss_b_set_4', gauss_b)\n",
    "np.save(datadir + 'wind_a_set_4', wind_a)\n",
    "np.save(datadir + 'wind_b_set_4', wind_b)\n",
    "np.save(datadir + 'labels_set_4', labels)"
   ]
  },
  {
   "cell_type": "code",
   "execution_count": 15,
   "metadata": {},
   "outputs": [],
   "source": [
    "import torch; torch.utils.backcompat.broadcast_warning.enabled = True\n",
    "from torch.utils.data import Dataset, DataLoader\n",
    "import numpy as np\n",
    "from tqdm.auto import tqdm\n",
    "\n",
    "datadir = \"train-npy/\"\n",
    "true_gauss = np.load(datadir + 'gauss_a_set_4.npy')\n",
    "true_wind = np.load(datadir + 'wind_a_set_4.npy')\n",
    "wrong_gauss = np.load(datadir + 'gauss_b_set_4.npy')\n",
    "wrong_wind = np.load(datadir + 'wind_b_set_4.npy')\n",
    "label = np.load(datadir + 'labels_set_4.npy')\n",
    "\n",
    "\n",
    "class DummyDataset(Dataset):\n",
    "    \"\"\"\n",
    "    This class should contain complete dataset  in init \n",
    "    \"\"\"\n",
    "\n",
    "    def __init__(self, genuine_geo,genuine_wind,forged_geo,forged_wind,labels):\n",
    "        super().__init__()\n",
    "        self.true_gauss = genuine_geo\n",
    "        self.true_wind = genuine_wind\n",
    "        self.wrong_gauss = forged_geo\n",
    "        self.wrong_wind = forged_wind\n",
    "        self.labels = labels\n",
    "\n",
    "    def __len__(self):\n",
    "        return len(self.labels)\n",
    "\n",
    "    def __getitem__(self, idx):\n",
    "        true_geo_tensor = torch.tensor(true_gauss[idx],dtype=torch.float)\n",
    "        true_wind_tensor = torch.tensor(true_wind[idx],dtype=torch.float) # this is complete dataset\n",
    "\n",
    "        wrong_geo_tensor = torch.tensor(wrong_gauss[idx],dtype=torch.float)\n",
    "        wrong_wind_tensor = torch.tensor(wrong_wind[idx],dtype=torch.float)\n",
    "        #convert_label = np.array(label[idx])\n",
    "        labels = torch.tensor(self.labels[idx],dtype=torch.float)\n",
    "        return true_wind_tensor,true_geo_tensor,wrong_wind_tensor,wrong_geo_tensor,labels\n"
   ]
  },
  {
   "cell_type": "code",
   "execution_count": 20,
   "metadata": {},
   "outputs": [
    {
     "data": {
      "application/vnd.jupyter.widget-view+json": {
       "model_id": "e3f55670476a48b099054584d728f108",
       "version_major": 2,
       "version_minor": 0
      },
      "text/plain": [
       "  0%|          | 0/1 [00:00<?, ?it/s]"
      ]
     },
     "metadata": {},
     "output_type": "display_data"
    },
    {
     "data": {
      "text/plain": [
       "tqdm.auto.tqdm"
      ]
     },
     "execution_count": 20,
     "metadata": {},
     "output_type": "execute_result"
    }
   ],
   "source": [
    "traindataset = DummyDataset(true_gauss[0:6],true_wind[0:6],wrong_gauss[0:6],wrong_wind[0:6],label[0:6])\n",
    "train_dataloader = DataLoader(traindataset, batch_size=128, shuffle=True)\n",
    "type(tqdm(enumerate(train_dataloader),total=len(train_dataloader)))\n",
    "#for steps, (true_wind_tensor, true_geo_tensor, wrong_wind_tensor, wrong_geo_tensor, labels) in tqdm(enumerate(train_dataloader),total=len(train_dataloader)):\n",
    "        #print(true_wind_tensor.shape)\n",
    "        #break"
   ]
  }
 ],
 "metadata": {
  "kernelspec": {
   "display_name": "multi",
   "language": "python",
   "name": "python3"
  },
  "language_info": {
   "codemirror_mode": {
    "name": "ipython",
    "version": 3
   },
   "file_extension": ".py",
   "mimetype": "text/x-python",
   "name": "python",
   "nbconvert_exporter": "python",
   "pygments_lexer": "ipython3",
   "version": "3.8.10"
  },
  "orig_nbformat": 4,
  "vscode": {
   "interpreter": {
    "hash": "2ab1345cbe5991227c439fd1ac747637f917c44b1c16138ea27909a2aebb9cda"
   }
  }
 },
 "nbformat": 4,
 "nbformat_minor": 2
}
