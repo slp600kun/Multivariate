{
 "cells": [
  {
   "cell_type": "code",
   "execution_count": 1,
   "metadata": {},
   "outputs": [],
   "source": [
    "import pandas as pd\n",
    "import datetime as dt\n",
    "import glob,re"
   ]
  },
  {
   "cell_type": "code",
   "execution_count": 52,
   "metadata": {},
   "outputs": [
    {
     "name": "stdout",
     "output_type": "stream",
     "text": [
      "csv/climomaster/2023-0131-afternoon.CSV\n"
     ]
    }
   ],
   "source": [
    "climo_path = glob.glob('csv/climomaster/2023-0131*')[0]\n",
    "climo_csv_df = pd.read_csv(climo_path,names = [\"No.\",\"V(m/s)\",\"T(C)\",\"H(%RH)\",\"A(hPa)\",\"Atom.F\"])\n",
    "\n",
    "#info\n",
    "climo_info_df = climo_csv_df[:13]\n",
    "climo_info_df =  climo_info_df.rename(columns={'No.': 'info','V(m/s)':'data'})\n",
    "climo_info_df = climo_info_df.drop([\"T(C)\",\"H(%RH)\",\"A(hPa)\",\"Atom.F\"],axis=1)\n",
    "climo_info_dict = dict(zip(climo_info_df['info'], climo_info_df['data']))"
   ]
  },
  {
   "cell_type": "code",
   "execution_count": 53,
   "metadata": {},
   "outputs": [],
   "source": [
    "def climo_momenttime(x :int):\n",
    "    beginning_time_str = climo_info_dict['[Measurement beginning time]']\n",
    "    beginning_time_str = beginning_time_str.replace('#','')\n",
    "    beginning_time_list = re.split('[/: ]',beginning_time_str)\n",
    "    beginning_year = int(beginning_time_list[2])\n",
    "    beginning_month = int(beginning_time_list[1])\n",
    "    beginning_day = int(beginning_time_list[0])\n",
    "    beginning_hour = int(beginning_time_list[3])\n",
    "    beginning_minite = int(beginning_time_list[4])\n",
    "    beginning_second = int(beginning_time_list[5])\n",
    "    beginning_time = dt.datetime(beginning_year,beginning_month,beginning_day,beginning_hour,beginning_minite,beginning_second)\n",
    "    elapsed_time = x * int(climo_info_dict['[S-TIME(S) -- Sampling interval(s)]'])\n",
    "    moment_time = beginning_time + dt.timedelta(seconds = elapsed_time)\n",
    "    return moment_time"
   ]
  },
  {
   "cell_type": "code",
   "execution_count": 54,
   "metadata": {},
   "outputs": [],
   "source": [
    "climo_df = climo_csv_df[19:]\n",
    "climo_df =  climo_df.rename(columns={'No.': 'Time'})\n",
    "climo_df = climo_df.drop([\"A(hPa)\",\"Atom.F\"],axis=1)\n",
    "climo_df = climo_df.astype({'Time':int, 'V(m/s)':float, \"T(C)\":float ,\"H(%RH)\":float})\n",
    "climo_df['Time'] = climo_df['Time'].map(climo_momenttime)\n",
    "climo_df = climo_df.set_index('Time')"
   ]
  },
  {
   "cell_type": "code",
   "execution_count": 57,
   "metadata": {},
   "outputs": [],
   "source": [
    "gauss_path = glob.glob('csv/ML-logger/2023-0131*')[0]\n",
    "gauss_df = pd.read_csv(gauss_path, encoding = 'shift-jis')\n",
    "gauss_df['Time'] = gauss_df['年月日'].str.cat(gauss_df['時刻'], sep = ' ')\n",
    "gauss_df = gauss_df.drop(columns = {'年月日','時刻'})\n",
    "gauss_df = gauss_df.rename(columns = {'データ01(mG)':'φ(mG)'})"
   ]
  },
  {
   "cell_type": "code",
   "execution_count": 58,
   "metadata": {},
   "outputs": [],
   "source": [
    "def gauss_momenttime(time:str):\n",
    "    moment_time_list = re.split('[/: ]',time)\n",
    "    year = int(moment_time_list[0])\n",
    "    month = int(moment_time_list[1])\n",
    "    day = int(moment_time_list[2])\n",
    "    hour = int(moment_time_list[3])\n",
    "    minute = int(moment_time_list[4])\n",
    "    second = int(moment_time_list[5])\n",
    "    moment_time = dt.datetime(year,month,day,hour,minute,second)\n",
    "    return moment_time"
   ]
  },
  {
   "cell_type": "code",
   "execution_count": 59,
   "metadata": {},
   "outputs": [],
   "source": [
    "gauss_df['Time'] = gauss_df['Time'].map(gauss_momenttime)\n",
    "gauss_df = gauss_df.set_index('Time')"
   ]
  },
  {
   "cell_type": "code",
   "execution_count": 62,
   "metadata": {},
   "outputs": [
    {
     "data": {
      "text/html": [
       "<div>\n",
       "<style scoped>\n",
       "    .dataframe tbody tr th:only-of-type {\n",
       "        vertical-align: middle;\n",
       "    }\n",
       "\n",
       "    .dataframe tbody tr th {\n",
       "        vertical-align: top;\n",
       "    }\n",
       "\n",
       "    .dataframe thead th {\n",
       "        text-align: right;\n",
       "    }\n",
       "</style>\n",
       "<table border=\"1\" class=\"dataframe\">\n",
       "  <thead>\n",
       "    <tr style=\"text-align: right;\">\n",
       "      <th></th>\n",
       "      <th>V(m/s)</th>\n",
       "      <th>T(C)</th>\n",
       "      <th>H(%RH)</th>\n",
       "      <th>φ(mG)</th>\n",
       "    </tr>\n",
       "    <tr>\n",
       "      <th>Time</th>\n",
       "      <th></th>\n",
       "      <th></th>\n",
       "      <th></th>\n",
       "      <th></th>\n",
       "    </tr>\n",
       "  </thead>\n",
       "  <tbody>\n",
       "  </tbody>\n",
       "</table>\n",
       "</div>"
      ],
      "text/plain": [
       "Empty DataFrame\n",
       "Columns: [V(m/s), T(C), H(%RH), φ(mG)]\n",
       "Index: []"
      ]
     },
     "execution_count": 62,
     "metadata": {},
     "output_type": "execute_result"
    },
    {
     "data": {
      "image/png": "[encoded data removed]",
      "text/plain": [
       "<Figure size 640x480 with 4 Axes>"
      ]
     },
     "metadata": {},
     "output_type": "display_data"
    }
   ],
   "source": [
    "merged_df = pd.merge(climo_df,gauss_df,left_index=True,right_index = True)\n",
    "merged_df = merged_df.dropna()\n",
    "merged_df.plot(subplots = True)\n",
    "merged_df"
   ]
  }
 ],
 "metadata": {
  "kernelspec": {
   "display_name": "multi",
   "language": "python",
   "name": "multi"
  },
  "language_info": {
   "codemirror_mode": {
    "name": "ipython",
    "version": 3
   },
   "file_extension": ".py",
   "mimetype": "text/x-python",
   "name": "python",
   "nbconvert_exporter": "python",
   "pygments_lexer": "ipython3",
   "version": "3.8.10"
  },
  "orig_nbformat": 4
 },
 "nbformat": 4,
 "nbformat_minor": 2
}
