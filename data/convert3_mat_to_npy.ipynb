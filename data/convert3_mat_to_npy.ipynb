{
 "cells": [
  {
   "cell_type": "code",
   "execution_count": 6,
   "metadata": {},
   "outputs": [],
   "source": [
    "import sensordata \n",
    "import numpy as np\n",
    "gauss_a,gauss_b,wind_a,wind_b,labels = sensordata.data_generate(\"mat/gauss_mat/\",\"gauss_feat\",\"mat/wind_mat/\",\"wind_vel_feat\")"
   ]
  },
  {
   "cell_type": "code",
   "execution_count": 8,
   "metadata": {},
   "outputs": [],
   "source": [
    "datadir = \"train-npy/\"\n",
    "np.save(datadir + 'gauss_a_set_4', gauss_a)\n",
    "np.save(datadir + 'gauss_b_set_4', gauss_b)\n",
    "np.save(datadir + 'wind_a_set_4', wind_a)\n",
    "np.save(datadir + 'wind_b_set_4', wind_b)\n",
    "np.save(datadir + 'labels_set_4', labels)"
   ]
  }
 ],
 "metadata": {
  "kernelspec": {
   "display_name": "multi",
   "language": "python",
   "name": "python3"
  },
  "language_info": {
   "codemirror_mode": {
    "name": "ipython",
    "version": 3
   },
   "file_extension": ".py",
   "mimetype": "text/x-python",
   "name": "python",
   "nbconvert_exporter": "python",
   "pygments_lexer": "ipython3",
   "version": "3.8.10"
  },
  "orig_nbformat": 4,
  "vscode": {
   "interpreter": {
    "hash": "2ab1345cbe5991227c439fd1ac747637f917c44b1c16138ea27909a2aebb9cda"
   }
  }
 },
 "nbformat": 4,
 "nbformat_minor": 2
}
