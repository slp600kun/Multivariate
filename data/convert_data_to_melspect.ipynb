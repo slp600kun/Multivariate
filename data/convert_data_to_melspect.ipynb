{
 "cells": [
  {
   "cell_type": "code",
   "execution_count": 1,
   "metadata": {},
   "outputs": [],
   "source": [
    "import glob\n",
    "import pandas as pd\n",
    "import numpy as np\n",
    "import matlab.engine\n",
    "mat = matlab.engine.start_matlab()"
   ]
  },
  {
   "cell_type": "code",
   "execution_count": 2,
   "metadata": {},
   "outputs": [],
   "source": [
    "def standardization(data_array):\n",
    "    square_data_array = data_array**2\n",
    "    abs_square_data_array = np.abs(square_data_array)\n",
    "    sum_abs_square_data = np.sum(abs_square_data_array)\n",
    "    sum_mean_square_data = sum_abs_square_data / len(data_array)\n",
    "    rms_data = np.sqrt(data_array / sum_mean_square_data)\n",
    "    #standardizated_data = data_array / rms_data\n",
    "    return rms_data\n"
   ]
  },
  {
   "cell_type": "code",
   "execution_count": 3,
   "metadata": {},
   "outputs": [],
   "source": [
    "merged_data_path = glob.glob('merged_2023-01-28*')[0]\n",
    "merged_data_df = pd.read_csv(merged_data_path,names = [\"No.\",\"V(m/s)\",\"T(C)\",\"H(%RH)\",\"A(hPa)\",\"Atom.F\",\"φ(mG)\"])\n",
    "\n",
    "#info\n",
    "temperature_df = merged_data_df['T(C)']\n",
    "temperature_array = np.array(temperature_df.values[1:], dtype = 'float')\n",
    "standardizated_temperature_array = standardization(temperature_array)\n",
    "standardizated_temperature_array  = standardizated_temperature_array [:29000];"
   ]
  },
  {
   "cell_type": "code",
   "execution_count": 12,
   "metadata": {},
   "outputs": [],
   "source": [
    "mat.cd(r'../matlab', nargout=0)\n",
    "mel_spect_data = mat.mel_spectrogram_bad(matlab.double(standardizated_temperature_array),matlab.double(29000))"
   ]
  },
  {
   "cell_type": "code",
   "execution_count": 10,
   "metadata": {},
   "outputs": [
    {
     "data": {
      "text/plain": [
       "50"
      ]
     },
     "execution_count": 10,
     "metadata": {},
     "output_type": "execute_result"
    }
   ],
   "source": [
    "len(mel_spect_data[1])"
   ]
  }
 ],
 "metadata": {
  "kernelspec": {
   "display_name": "multi",
   "language": "python",
   "name": "python3"
  },
  "language_info": {
   "codemirror_mode": {
    "name": "ipython",
    "version": 3
   },
   "file_extension": ".py",
   "mimetype": "text/x-python",
   "name": "python",
   "nbconvert_exporter": "python",
   "pygments_lexer": "ipython3",
   "version": "3.8.10"
  },
  "orig_nbformat": 4,
  "vscode": {
   "interpreter": {
    "hash": "2ab1345cbe5991227c439fd1ac747637f917c44b1c16138ea27909a2aebb9cda"
   }
  }
 },
 "nbformat": 4,
 "nbformat_minor": 2
}
