{
 "cells": [
  {
   "cell_type": "code",
   "execution_count": 5,
   "metadata": {},
   "outputs": [],
   "source": [
    "import glob\n",
    "import pandas as pd\n",
    "import numpy as np\n",
    "import scipy\n",
    "import matlab.engine\n",
    "from sklearn.preprocessing import minmax_scale\n",
    "mat = matlab.engine.start_matlab()"
   ]
  },
  {
   "cell_type": "code",
   "execution_count": 2,
   "metadata": {},
   "outputs": [],
   "source": [
    "#信号を正規化する関数\n",
    "def normalization(data_array):\n",
    "    normalizated_data = minmax_scale(data_array)\n",
    "    return normalizated_data\n",
    "\n",
    "#信号を実効値信号に変換する関数(shakeelが使用)\n",
    "def rms(data_array):\n",
    "    square_data_array = data_array**2\n",
    "    abs_square_data_array = np.abs(square_data_array)\n",
    "    sum_abs_square_data = np.sum(abs_square_data_array)\n",
    "    sum_mean_square_data = sum_abs_square_data / len(data_array)\n",
    "    rms_data = np.sqrt(data_array / sum_mean_square_data)\n",
    "    #standardizated_data = data_array / rms_data\n",
    "    return rms_data"
   ]
  },
  {
   "cell_type": "code",
   "execution_count": 10,
   "metadata": {},
   "outputs": [],
   "source": [
    "days = \"01-29\"\n",
    "merged_data_path = glob.glob('csv/merged/merged_2023-'+ days + '*')[0]\n",
    "merged_data_df = pd.read_csv(merged_data_path,names = [\"Time\",\"V(m/s)\",\"T(C)\",\"H(%RH)\",\"φ(mG)\"],skiprows=1)\n",
    "\n",
    "#info\n",
    "gauss_df = merged_data_df['φ(mG)']\n",
    "wind_vel_df = merged_data_df['V(m/s)']\n",
    "\n",
    "gauss_array = np.array(gauss_df.values[1:], dtype = 'float')\n",
    "wind_vel_array = np.array(wind_vel_df.values[1:], dtype = 'float')\n",
    "\n",
    "standardizated_gauss_array = normalization(gauss_array)\n",
    "standardizated_gauss_array  = standardizated_gauss_array[:29000]\n",
    "standardizated_wind_vel_array = normalization(wind_vel_array)\n",
    "standardizated_wind_vel_array  = standardizated_wind_vel_array[:29000]\n"
   ]
  },
  {
   "cell_type": "code",
   "execution_count": 11,
   "metadata": {},
   "outputs": [],
   "source": [
    "mat.cd(r'../matlab', nargout=0)\n",
    "mel_spect_gauss_data = mat.mel_spectrogram_bad(matlab.double(standardizated_gauss_array),matlab.double(2900))\n",
    "mel_spect_wind_vel_data = mat.mel_spectrogram_bad(matlab.double(standardizated_wind_vel_array),matlab.double(2900))\n",
    "scipy.io.savemat('mat/gauss_mat/gauss-2023-'+ days + '-17.mat', {'gauss_feat':mel_spect_gauss_data})\n",
    "scipy.io.savemat('mat/wind_mat/wind-2023-'+ days + '-17.mat', {'wind_vel_feat':mel_spect_wind_vel_data})"
   ]
  },
  {
   "cell_type": "markdown",
   "metadata": {},
   "source": []
  }
 ],
 "metadata": {
  "kernelspec": {
   "display_name": "multi",
   "language": "python",
   "name": "python3"
  },
  "language_info": {
   "codemirror_mode": {
    "name": "ipython",
    "version": 3
   },
   "file_extension": ".py",
   "mimetype": "text/x-python",
   "name": "python",
   "nbconvert_exporter": "python",
   "pygments_lexer": "ipython3",
   "version": "3.8.10"
  },
  "orig_nbformat": 4,
  "vscode": {
   "interpreter": {
    "hash": "2ab1345cbe5991227c439fd1ac747637f917c44b1c16138ea27909a2aebb9cda"
   }
  }
 },
 "nbformat": 4,
 "nbformat_minor": 2
}
